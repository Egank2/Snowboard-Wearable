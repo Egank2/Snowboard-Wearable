{
  "nbformat": 4,
  "nbformat_minor": 0,
  "metadata": {
    "colab": {
      "provenance": []
    },
    "kernelspec": {
      "name": "python3",
      "display_name": "Python 3"
    },
    "language_info": {
      "name": "python"
    }
  },
  "cells": [
    {
      "cell_type": "markdown",
      "source": [
        "**In this colab file I make sure that the **"
      ],
      "metadata": {
        "id": "IyoIWTtgzw_Z"
      }
    },
    {
      "cell_type": "code",
      "execution_count": null,
      "metadata": {
        "colab": {
          "base_uri": "https://localhost:8080/"
        },
        "id": "weXnnIl7sozs",
        "outputId": "5f988ec5-395d-49a9-c7e0-28096f379664"
      },
      "outputs": [
        {
          "output_type": "stream",
          "name": "stdout",
          "text": [
            "       timestamp    quat_w    quat_x    quat_y    quat_z        lat     lon  \\\n",
            "0  1743372877914  0.544189  0.001587 -0.039062 -0.838074  42.489099 -71.887   \n",
            "1  1743372877921  0.544189  0.001587 -0.039062 -0.838074  42.489099 -71.887   \n",
            "2  1743372877922  0.544189  0.001587 -0.039062 -0.838074  42.489099 -71.887   \n",
            "3  1743372877923  0.544189  0.001587 -0.039062 -0.838074  42.489099 -71.887   \n",
            "4  1743372877930  0.544189  0.001587 -0.039062 -0.838074  42.489099 -71.887   \n",
            "\n",
            "   gps_speed    altitude  \n",
            "0   0.154492  588.099976  \n",
            "1   0.154492  588.099976  \n",
            "2   0.154492  588.099976  \n",
            "3   0.154492  588.099976  \n",
            "4   0.154492  588.099976  \n"
          ]
        }
      ],
      "source": [
        "import pandas as pd\n",
        "import numpy as np\n",
        "import matplotlib.pyplot as plt\n",
        "\n",
        "# The CSV format is:\n",
        "# timestamp,quat_w,quat_x,quat_y,quat_z,lat,lon,gps_speed,altitude\n",
        "df = pd.read_csv(\n",
        "    \"/content/run11 (1).csv\",\n",
        "    header=None,\n",
        "    names=[\"timestamp\", \"quat_w\", \"quat_x\", \"quat_y\", \"quat_z\", \"lat\", \"lon\", \"gps_speed\", \"altitude\"]\n",
        ")\n",
        "print(df.head())"
      ]
    },
    {
      "cell_type": "code",
      "source": [
        "#Run 1\n",
        "max_speed = df['gps_speed'].max()\n",
        "print(\"Maximum gps_speed:\", max_speed)"
      ],
      "metadata": {
        "colab": {
          "base_uri": "https://localhost:8080/"
        },
        "id": "BQyyQU7Js2aN",
        "outputId": "61819efb-c8c4-418b-dda0-82c2a8c7d36b"
      },
      "execution_count": null,
      "outputs": [
        {
          "output_type": "stream",
          "name": "stdout",
          "text": [
            "Maximum gps_speed: 7.659125\n"
          ]
        }
      ]
    },
    {
      "cell_type": "code",
      "source": [
        "#Run 2\n",
        "max_speed = df['gps_speed'].max()\n",
        "print(\"Maximum gps_speed:\", max_speed)"
      ],
      "metadata": {
        "colab": {
          "base_uri": "https://localhost:8080/"
        },
        "id": "yG5CAlfTs20u",
        "outputId": "12184cc8-8bc8-4547-c751-9980ca7d4544"
      },
      "execution_count": null,
      "outputs": [
        {
          "output_type": "stream",
          "name": "stdout",
          "text": [
            "Maximum gps_speed: 7.535058\n"
          ]
        }
      ]
    },
    {
      "cell_type": "code",
      "source": [
        "#Run 3\n",
        "max_speed = df['gps_speed'].max()\n",
        "print(\"Maximum gps_speed:\", max_speed)"
      ],
      "metadata": {
        "colab": {
          "base_uri": "https://localhost:8080/"
        },
        "id": "YVKP7mkPttFO",
        "outputId": "d7fc68f3-b57b-47b9-939a-c521471107c2"
      },
      "execution_count": null,
      "outputs": [
        {
          "output_type": "stream",
          "name": "stdout",
          "text": [
            "Maximum gps_speed: 0.0\n"
          ]
        }
      ]
    },
    {
      "cell_type": "code",
      "source": [
        "#Run 4\n",
        "max_speed = df['gps_speed'].max()\n",
        "print(\"Maximum gps_speed:\", max_speed)"
      ],
      "metadata": {
        "colab": {
          "base_uri": "https://localhost:8080/"
        },
        "id": "8J3Fl2WAt4sG",
        "outputId": "9b9a7b34-440d-46c4-b62e-56e0fe4b62e4"
      },
      "execution_count": null,
      "outputs": [
        {
          "output_type": "stream",
          "name": "stdout",
          "text": [
            "Maximum gps_speed: 0.0\n"
          ]
        }
      ]
    },
    {
      "cell_type": "code",
      "source": [
        "#Run 5\n",
        "max_speed = df['gps_speed'].max()\n",
        "print(\"Maximum gps_speed:\", max_speed)"
      ],
      "metadata": {
        "colab": {
          "base_uri": "https://localhost:8080/"
        },
        "id": "tJM-4FLLuDBs",
        "outputId": "c65fb67a-4ba6-4851-b8dd-cb1387c25da8"
      },
      "execution_count": null,
      "outputs": [
        {
          "output_type": "stream",
          "name": "stdout",
          "text": [
            "Maximum gps_speed: 6.014977\n"
          ]
        }
      ]
    },
    {
      "cell_type": "code",
      "source": [
        "#Run 7\n",
        "max_speed = df['gps_speed'].max()\n",
        "print(\"Maximum gps_speed:\", max_speed)"
      ],
      "metadata": {
        "colab": {
          "base_uri": "https://localhost:8080/"
        },
        "id": "UugXbp1-uKUH",
        "outputId": "00d8f981-31c3-46c9-b4ee-4651ca115593"
      },
      "execution_count": null,
      "outputs": [
        {
          "output_type": "stream",
          "name": "stdout",
          "text": [
            "Maximum gps_speed: 0.0\n"
          ]
        }
      ]
    },
    {
      "cell_type": "code",
      "source": [
        "#Run 8\n",
        "max_speed = df['gps_speed'].max()\n",
        "print(\"Maximum gps_speed:\", max_speed)"
      ],
      "metadata": {
        "colab": {
          "base_uri": "https://localhost:8080/"
        },
        "id": "Bo-vLa3bue2i",
        "outputId": "719bec0d-284c-48df-d524-84a27a1d9cfa"
      },
      "execution_count": null,
      "outputs": [
        {
          "output_type": "stream",
          "name": "stdout",
          "text": [
            "Maximum gps_speed: 0.003177\n"
          ]
        }
      ]
    },
    {
      "cell_type": "code",
      "source": [
        "#Run 9\n",
        "max_speed = df['gps_speed'].max()\n",
        "print(\"Maximum gps_speed:\", max_speed)"
      ],
      "metadata": {
        "colab": {
          "base_uri": "https://localhost:8080/"
        },
        "id": "H0iFsdbvuqy3",
        "outputId": "897902ac-8898-4cb9-c991-7b6d7c8510f7"
      },
      "execution_count": null,
      "outputs": [
        {
          "output_type": "stream",
          "name": "stdout",
          "text": [
            "Maximum gps_speed: 2.166514\n"
          ]
        }
      ]
    },
    {
      "cell_type": "code",
      "source": [
        "#Run 11\n",
        "max_speed = df['gps_speed'].max()\n",
        "print(\"Maximum gps_speed:\", max_speed)"
      ],
      "metadata": {
        "colab": {
          "base_uri": "https://localhost:8080/"
        },
        "id": "tqeJBbAvu7pA",
        "outputId": "ef4b7229-c4ea-49bc-a1dd-698dca63b4e3"
      },
      "execution_count": null,
      "outputs": [
        {
          "output_type": "stream",
          "name": "stdout",
          "text": [
            "Maximum gps_speed: 0.154492\n"
          ]
        }
      ]
    }
  ]
}